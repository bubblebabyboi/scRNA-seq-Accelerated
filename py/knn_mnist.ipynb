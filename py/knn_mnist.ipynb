{
 "cells": [
  {
   "cell_type": "code",
   "execution_count": 39,
   "metadata": {},
   "outputs": [],
   "source": [
    "import scipy as sp \n",
    "import numpy as np \n",
    "import pandas as pd\n",
    "import matplotlib.pyplot as plt\n",
    "import sklearn as sk\n",
    "import tensorflow as tf "
   ]
  },
  {
   "cell_type": "code",
   "execution_count": 15,
   "metadata": {},
   "outputs": [],
   "source": [
    "(trn_images, trn_labels), (tst_images, tst_labels) = tf.keras.datasets.mnist.load_data()"
   ]
  },
  {
   "cell_type": "code",
   "execution_count": 16,
   "metadata": {},
   "outputs": [],
   "source": [
    "def plot_image(image):\n",
    "    plt.imshow(image, cmap='gray')\n",
    "    plt.axis('off')\n",
    "    plt.show()\n"
   ]
  },
  {
   "cell_type": "code",
   "execution_count": 17,
   "metadata": {},
   "outputs": [],
   "source": [
    "# Preprocessing\n",
    "\n",
    "# Reshape the images to 1D\n",
    "trn_images = trn_images.flatten().reshape(60000, 784)\n",
    "tst_images = tst_images.flatten().reshape(10000, 784)\n",
    "\n",
    "# Normalize the images\n",
    "trn_images = trn_images / 255.0\n",
    "tst_images = tst_images / 255.0\n"
   ]
  },
  {
   "cell_type": "code",
   "execution_count": 19,
   "metadata": {},
   "outputs": [],
   "source": [
    "def pca(X, k):\n",
    "    X = X - np.mean(X, axis=0)              # Center data by subtracting mean of each feature\n",
    "    cov = np.cov(X, rowvar=False)           # Compute the covariance matrix\n",
    "    eigvals, eigvecs = np.linalg.eigh(cov)  # Compute the eigenvectors & eigenvalues of covariance matrix\n",
    "\n",
    "    # Sort the eigenvectors by decreasing eigenvalues\n",
    "    idx = np.argsort(eigvals)[::-1]\n",
    "    eigvecs = eigvecs[:, idx]\n",
    "\n",
    "    # Select the top k eigenvectors\n",
    "    eigvecs = eigvecs[:, :k]\n",
    "\n",
    "    # Project the data onto the eigenvectors\n",
    "    X_pca = np.dot(X, eigvecs)\n",
    "    return X_pca"
   ]
  },
  {
   "cell_type": "code",
   "execution_count": null,
   "metadata": {},
   "outputs": [],
   "source": [
    "# Different distance metrics\n",
    "def eucledian_distance(x1, x2):\n",
    "    return np.linalg.norm(x1 - x2, axis=1)\n",
    "\n",
    "def manhatten_distance(x1, x2):\n",
    "    return np.sum(np.abs(x1 - x2), axis=1)\n",
    "\n",
    "def cosine_similarity(x1, x2):\n",
    "    return np.dot(x1, x2.T) / (np.linalg.norm(x1) * np.linalg.norm(x2, axis=1))\n",
    "\n",
    "def hamming_distance(x1, x2):\n",
    "    return np.sum(x1 != x2, axis=1)"
   ]
  },
  {
   "cell_type": "code",
   "execution_count": null,
   "metadata": {},
   "outputs": [],
   "source": [
    "def knn(x, k, trn_images, trn_labels, dist_fn):\n",
    "    distances = dist_fn(trn_images, x)\n",
    "    idx = np.argsort(distances)\n",
    "    k_labels = trn_labels[idx[:k]]\n",
    "    counts = np.bincount(k_labels)\n",
    "    return np.argmax(counts)"
   ]
  },
  {
   "cell_type": "code",
   "execution_count": 9,
   "metadata": {},
   "outputs": [],
   "source": [
    "y_pred = np.zeros(len(tst_images))\n",
    "\n",
    "for i in range(len(tst_images)):\n",
    "    y_pred[i] = knn(tst_images[i], trn_images, trn_labels, 3)"
   ]
  },
  {
   "cell_type": "code",
   "execution_count": 10,
   "metadata": {},
   "outputs": [
    {
     "name": "stdout",
     "output_type": "stream",
     "text": [
      "Accuracy: 97.05%\n"
     ]
    }
   ],
   "source": [
    "accuracy = np.sum(y_pred == tst_labels) / len(tst_labels)\n",
    "print(f\"Accuracy: {accuracy * 100:.2f}%\")"
   ]
  },
  {
   "cell_type": "code",
   "execution_count": 41,
   "metadata": {},
   "outputs": [
    {
     "name": "stdout",
     "output_type": "stream",
     "text": [
      "Total number of components used after PCA : 154\n",
      "train_img shape : (60000, 154)\n",
      "test_img shape : (10000, 154)\n"
     ]
    }
   ],
   "source": [
    "from sklearn.decomposition import PCA\n",
    "\n",
    "pca = PCA(n_components=.95)\n",
    "pca.fit(trn_images)\n",
    "\n",
    "print(f'Total number of components used after PCA : {pca.n_components_}')\n",
    "\n",
    "train_img = pca.transform(trn_images)\n",
    "test_img = pca.transform(tst_images)\n",
    "\n",
    "print(f'train_img shape : {train_img.shape}')\n",
    "print(f'test_img shape : {test_img.shape}')\n"
   ]
  },
  {
   "cell_type": "code",
   "execution_count": null,
   "metadata": {},
   "outputs": [],
   "source": [
    "y_pred = np.zeros(len(tst_images))\n",
    "\n",
    "for i in range(len(tst_images)):\n",
    "    y_pred[i] = knn(tst_images[i], trn_images, trn_labels, 3)"
   ]
  },
  {
   "cell_type": "code",
   "execution_count": null,
   "metadata": {},
   "outputs": [
    {
     "name": "stdout",
     "output_type": "stream",
     "text": [
      "PCA k-NN Accuracy: 5.05%\n"
     ]
    }
   ],
   "source": [
    "accuracy = np.sum(y_pred_pca == tst_labels) / len(tst_labels)\n",
    "print(f\"PCA k-NN Accuracy: {accuracy * 100:.2f}%\")"
   ]
  },
  {
   "cell_type": "code",
   "execution_count": null,
   "metadata": {},
   "outputs": [],
   "source": []
  }
 ],
 "metadata": {
  "kernelspec": {
   "display_name": "Python 3",
   "language": "python",
   "name": "python3"
  },
  "language_info": {
   "codemirror_mode": {
    "name": "ipython",
    "version": 3
   },
   "file_extension": ".py",
   "mimetype": "text/x-python",
   "name": "python",
   "nbconvert_exporter": "python",
   "pygments_lexer": "ipython3",
   "version": "3.10.12"
  }
 },
 "nbformat": 4,
 "nbformat_minor": 2
}
